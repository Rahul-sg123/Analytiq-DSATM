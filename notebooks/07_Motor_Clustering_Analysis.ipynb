{
 "cells": [
  {
   "cell_type": "code",
   "execution_count": 1,
   "id": "261413f1",
   "metadata": {},
   "outputs": [
    {
     "name": "stdout",
     "output_type": "stream",
     "text": [
      "Loading motor dataset for clustering...\n",
      "Engineered features for motor fleet summary:\n",
      "  Product ID  avg_torque  avg_speed  max_tool_wear\n",
      "0     H29424        23.9     1782.0             24\n",
      "1     H29425        44.3     1423.0             29\n",
      "2     H29432        54.5     1306.0             50\n",
      "3     H29434        42.7     1375.0             58\n",
      "4     H29441        24.6     1811.0             77\n",
      "\n",
      "Motor clustering complete.\n",
      "\n",
      "✅ Clustered motor data saved to ../data/clustered_motor_data.csv\n"
     ]
    }
   ],
   "source": [
    "# In notebooks/07_Motor_Clustering_Analysis.ipynb\n",
    "import pandas as pd\n",
    "from sklearn.preprocessing import StandardScaler\n",
    "from sklearn.cluster import KMeans\n",
    "import warnings\n",
    "warnings.filterwarnings('ignore')\n",
    "\n",
    "print(\"Loading motor dataset for clustering...\")\n",
    "df = pd.read_csv('../data/ai4i2020.csv')\n",
    "\n",
    "# --- Feature Engineering for Clustering ---\n",
    "# We will characterize each motor by its average torque and rotational speed.\n",
    "# This helps identify motors that are overworked vs. those running normally.\n",
    "# We use Product ID to identify each unique machine.\n",
    "motor_summary = df.groupby('Product ID').agg(\n",
    "    avg_torque=('Torque [Nm]', 'mean'),\n",
    "    avg_speed=('Rotational speed [rpm]', 'mean'),\n",
    "    max_tool_wear=('Tool wear [min]', 'max')\n",
    ").reset_index()\n",
    "\n",
    "print(\"Engineered features for motor fleet summary:\")\n",
    "print(motor_summary.head())\n",
    "\n",
    "# --- K-Means Clustering ---\n",
    "features_for_clustering = motor_summary[['avg_torque', 'avg_speed', 'max_tool_wear']]\n",
    "\n",
    "scaler = StandardScaler()\n",
    "scaled_features = scaler.fit_transform(features_for_clustering)\n",
    "\n",
    "# We'll look for 3 operational clusters: e.g., 'Standard Use', 'High Stress', 'High Wear'\n",
    "kmeans = KMeans(n_clusters=3, random_state=42, n_init=10)\n",
    "motor_summary['cluster'] = kmeans.fit_predict(scaled_features)\n",
    "\n",
    "print(\"\\nMotor clustering complete.\")\n",
    "\n",
    "# --- Save the results ---\n",
    "output_path = '../data/clustered_motor_data.csv'\n",
    "motor_summary.to_csv(output_path, index=False)\n",
    "print(f\"\\n✅ Clustered motor data saved to {output_path}\")"
   ]
  },
  {
   "cell_type": "code",
   "execution_count": null,
   "id": "037d04a7",
   "metadata": {},
   "outputs": [],
   "source": []
  }
 ],
 "metadata": {
  "kernelspec": {
   "display_name": "Python 3",
   "language": "python",
   "name": "python3"
  },
  "language_info": {
   "codemirror_mode": {
    "name": "ipython",
    "version": 3
   },
   "file_extension": ".py",
   "mimetype": "text/x-python",
   "name": "python",
   "nbconvert_exporter": "python",
   "pygments_lexer": "ipython3",
   "version": "3.11.3"
  }
 },
 "nbformat": 4,
 "nbformat_minor": 5
}
