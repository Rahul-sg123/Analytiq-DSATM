{
 "cells": [
  {
   "cell_type": "code",
   "execution_count": 2,
   "id": "0767a734",
   "metadata": {},
   "outputs": [
    {
     "name": "stdout",
     "output_type": "stream",
     "text": [
      "Preparing hydraulic system data...\n",
      "Training Random Forest Classifier for hydraulic system...\n",
      "✅ Hydraulic Model Accuracy: 0.00\n",
      "✅ Hydraulic model saved successfully to 'backend/hydraulic_model.joblib'\n"
     ]
    }
   ],
   "source": [
    "# In notebooks/05_Hydraulic_Model_Training.ipynb\n",
    "import pandas as pd\n",
    "from sklearn.model_selection import train_test_split\n",
    "from sklearn.ensemble import RandomForestClassifier\n",
    "from sklearn.metrics import accuracy_score\n",
    "import joblib\n",
    "\n",
    "print(\"Preparing hydraulic system data...\")\n",
    "\n",
    "# For the hackathon, we assume you have a pre-combined CSV.\n",
    "# This CSV would contain sensor readings and the target variable.\n",
    "# Let's create a dummy DataFrame to simulate this.\n",
    "# NOTE: In a real scenario, you'd load your actual hydraulic_data.csv\n",
    "data = {\n",
    "    'PS1': [160.67, 160.67, 160.67],\n",
    "    'PS2': [109.4, 109.4, 109.4],\n",
    "    'PS3': [8.56, 8.56, 8.56],\n",
    "    'PS4': [9.18, 9.18, 9.18],\n",
    "    'PS5': [8.38, 8.38, 8.38],\n",
    "    'PS6': [8.60, 8.60, 8.60],\n",
    "    'EPS1': [20.0, 21.0, 19.5],\n",
    "    'FS1': [0.0, 0.0, 0.0],\n",
    "    'TS1': [38.5, 39.0, 38.0],\n",
    "    'TS2': [39.0, 39.5, 38.5],\n",
    "    'TS3': [38.0, 38.5, 37.5],\n",
    "    'TS4': [37.5, 38.0, 37.0],\n",
    "    'VS1': [1400, 1400, 1400],\n",
    "    'CE': [0, 1, 0],\n",
    "    'CP': [0, 0, 1],\n",
    "    'SE': [1, 0, 0],\n",
    "    'cooler_condition': [1, 2, 3]  # Example target\n",
    "}\n",
    "df_sample = pd.DataFrame(data)\n",
    "\n",
    "features = ['PS1', 'PS2', 'PS3', 'PS4', 'PS5', 'PS6', 'EPS1', 'FS1', 'TS1', 'TS2', 'TS3', 'TS4', 'VS1', 'CE', 'CP', 'SE']\n",
    "target = 'cooler_condition'\n",
    "\n",
    "X = df_sample[features]\n",
    "y = df_sample[target]\n",
    "\n",
    "X_train, X_test, y_train, y_test = train_test_split(X, y, test_size=0.2, random_state=42)\n",
    "\n",
    "print(\"Training Random Forest Classifier for hydraulic system...\")\n",
    "# This is a multi-class classification model\n",
    "model = RandomForestClassifier(n_estimators=100, random_state=42)\n",
    "model.fit(X_train, y_train)\n",
    "\n",
    "print(f\"✅ Hydraulic Model Accuracy: {accuracy_score(y_test, model.predict(X_test)):.2f}\")\n",
    "\n",
    "# Save the new model to the backend folder\n",
    "joblib.dump(model, '../backend/hydraulic_model.joblib')\n",
    "print(\"✅ Hydraulic model saved successfully to 'backend/hydraulic_model.joblib'\")"
   ]
  },
  {
   "cell_type": "code",
   "execution_count": null,
   "id": "c6b14392",
   "metadata": {},
   "outputs": [],
   "source": []
  }
 ],
 "metadata": {
  "kernelspec": {
   "display_name": "Python 3",
   "language": "python",
   "name": "python3"
  },
  "language_info": {
   "codemirror_mode": {
    "name": "ipython",
    "version": 3
   },
   "file_extension": ".py",
   "mimetype": "text/x-python",
   "name": "python",
   "nbconvert_exporter": "python",
   "pygments_lexer": "ipython3",
   "version": "3.11.3"
  }
 },
 "nbformat": 4,
 "nbformat_minor": 5
}
