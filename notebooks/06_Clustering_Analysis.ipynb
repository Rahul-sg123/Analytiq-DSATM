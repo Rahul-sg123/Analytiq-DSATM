{
 "cells": [
  {
   "cell_type": "code",
   "execution_count": 2,
   "id": "d2c14981",
   "metadata": {},
   "outputs": [
    {
     "name": "stdout",
     "output_type": "stream",
     "text": [
      "Loading processed battery data...\n",
      "Engineered features for fleet summary:\n",
      "  battery_id   avg_temp  fade_rate\n",
      "0      B0053  12.238551   0.019092\n",
      "1      B0054  13.512857   0.007184\n",
      "\n",
      "Clustering complete. Here are the results:\n",
      "  battery_id   avg_temp  fade_rate  cluster\n",
      "0      B0053  12.238551   0.019092        0\n",
      "1      B0054  13.512857   0.007184        1\n",
      "\n",
      "✅ Clustered fleet data saved to ../data/clustered_fleet_data.csv\n"
     ]
    }
   ],
   "source": [
    "# In notebooks/06_Clustering_Analysis.ipynb\n",
    "import pandas as pd\n",
    "from sklearn.preprocessing import StandardScaler\n",
    "from sklearn.cluster import KMeans\n",
    "import warnings\n",
    "warnings.filterwarnings('ignore')\n",
    "\n",
    "print(\"Loading processed battery data...\")\n",
    "df = pd.read_csv('../data/processed_battery_data.csv')\n",
    "\n",
    "# --- Feature Engineering for Clustering ---\n",
    "# We want to describe the overall behavior of each battery.\n",
    "# We'll calculate the average temperature and the rate of capacity fade.\n",
    "fleet_summary = df.groupby('battery_id').agg(\n",
    "    avg_temp=('temp_mean', 'mean'),\n",
    "    # Calculate capacity fade rate: (start_capacity - end_capacity) / num_cycles\n",
    "    fade_rate=('capacity', lambda x: (x.iloc[0] - x.iloc[-1]) / len(x))\n",
    ").reset_index()\n",
    "\n",
    "print(\"Engineered features for fleet summary:\")\n",
    "print(fleet_summary)\n",
    "\n",
    "# --- K-Means Clustering ---\n",
    "features_for_clustering = fleet_summary[['avg_temp', 'fade_rate']]\n",
    "\n",
    "# Scale the features so they have equal importance\n",
    "scaler = StandardScaler()\n",
    "scaled_features = scaler.fit_transform(features_for_clustering)\n",
    "\n",
    "# Run K-Means to find 3 distinct clusters (e.g., Healthy, Hot, Fading Fast)\n",
    "kmeans = KMeans(n_clusters=2, random_state=42, n_init=10)\n",
    "fleet_summary['cluster'] = kmeans.fit_predict(scaled_features)\n",
    "\n",
    "print(\"\\nClustering complete. Here are the results:\")\n",
    "print(fleet_summary)\n",
    "\n",
    "# --- Save the results ---\n",
    "output_path = '../data/clustered_fleet_data.csv'\n",
    "fleet_summary.to_csv(output_path, index=False)\n",
    "print(f\"\\n✅ Clustered fleet data saved to {output_path}\")"
   ]
  },
  {
   "cell_type": "code",
   "execution_count": null,
   "id": "2ea45d02",
   "metadata": {},
   "outputs": [],
   "source": []
  }
 ],
 "metadata": {
  "kernelspec": {
   "display_name": "Python 3",
   "language": "python",
   "name": "python3"
  },
  "language_info": {
   "codemirror_mode": {
    "name": "ipython",
    "version": 3
   },
   "file_extension": ".py",
   "mimetype": "text/x-python",
   "name": "python",
   "nbconvert_exporter": "python",
   "pygments_lexer": "ipython3",
   "version": "3.11.3"
  }
 },
 "nbformat": 4,
 "nbformat_minor": 5
}
