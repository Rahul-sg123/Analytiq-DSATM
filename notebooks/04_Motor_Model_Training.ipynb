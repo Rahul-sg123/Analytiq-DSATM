{
 "cells": [
  {
   "cell_type": "code",
   "execution_count": 7,
   "id": "776fc4f6",
   "metadata": {},
   "outputs": [
    {
     "name": "stdout",
     "output_type": "stream",
     "text": [
      "Loading motor dataset...\n",
      "Training Random Forest Classifier for motors...\n",
      "✅ Motor Model Accuracy: 0.98\n",
      "✅ Motor model saved successfully to 'backend/motor_model.joblib'\n"
     ]
    }
   ],
   "source": [
    "# In notebooks/04_Motor_Model_Training.ipynb\n",
    "import pandas as pd\n",
    "from sklearn.model_selection import train_test_split\n",
    "from sklearn.ensemble import RandomForestClassifier\n",
    "from sklearn.metrics import accuracy_score\n",
    "import joblib\n",
    "\n",
    "print(\"Loading motor dataset...\")\n",
    "df = pd.read_csv('../data/ai4i2020.csv')\n",
    "\n",
    "# Simple Feature Engineering for the hackathon\n",
    "df = df.drop(['UDI', 'Product ID', 'Type'], axis=1) # Drop non-sensor columns\n",
    "# Create a single binary 'Failure' target column\n",
    "df['Failure'] = df[['TWF', 'HDF', 'PWF', 'OSF', 'RNF']].any(axis=1).astype(int)\n",
    "df = df.drop(['TWF', 'HDF', 'PWF', 'OSF', 'RNF'], axis=1)\n",
    "\n",
    "features = ['Air temperature [K]', 'Process temperature [K]', 'Rotational speed [rpm]', 'Torque [Nm]', 'Tool wear [min]']\n",
    "target = 'Failure'\n",
    "\n",
    "X = df[features]\n",
    "y = df[target]\n",
    "\n",
    "X_train, X_test, y_train, y_test = train_test_split(X, y, test_size=0.2, random_state=42, stratify=y)\n",
    "\n",
    "print(\"Training Random Forest Classifier for motors...\")\n",
    "model = RandomForestClassifier(n_estimators=100, random_state=42)\n",
    "model.fit(X_train, y_train)\n",
    "\n",
    "print(f\"✅ Motor Model Accuracy: {accuracy_score(y_test, model.predict(X_test)):.2f}\")\n",
    "\n",
    "# Save the new model to the backend folder\n",
    "joblib.dump(model, '../backend/motor_model.joblib')\n",
    "print(\"✅ Motor model saved successfully to 'backend/motor_model.joblib'\")"
   ]
  },
  {
   "cell_type": "code",
   "execution_count": null,
   "id": "71d06aa6",
   "metadata": {},
   "outputs": [],
   "source": []
  }
 ],
 "metadata": {
  "kernelspec": {
   "display_name": "Python 3",
   "language": "python",
   "name": "python3"
  },
  "language_info": {
   "codemirror_mode": {
    "name": "ipython",
    "version": 3
   },
   "file_extension": ".py",
   "mimetype": "text/x-python",
   "name": "python",
   "nbconvert_exporter": "python",
   "pygments_lexer": "ipython3",
   "version": "3.11.3"
  }
 },
 "nbformat": 4,
 "nbformat_minor": 5
}
